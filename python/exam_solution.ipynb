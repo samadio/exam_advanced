{
 "cells": [
  {
   "cell_type": "markdown",
   "metadata": {},
   "source": [
    "Exam requests: \n",
    "\n",
    "1. Write a class PostcardList that satisfies the tests (defined using unittest). \n",
    "\n",
    "SPECIFICATIONS: \n",
    "Class PostcardList reads/writes Postcard messages from/to a properly formatted file: each record (i.e., file's line) is a Postcard. \n",
    "The Postcard format is \"date:$(DATE); from:$(SENDER); to:$(RECEIVER);\" (e.g., \"date:2009-12-24; from:Daisy; to:Donald;\"). For the sake of simplicity, the message is not considered.\n",
    "\n",
    "Class PostcardList must have at least these attributes:\n",
    " - _file: file name, eventually with the full path.\n",
    " - _postcards: list of postcards read from _file.\n",
    " - _date: is a dict where the key is the string date, and the value is a list of indices. Each index refers to the corresponding record.\n",
    " - _from: is a dict where the key is the string sender, and the value is a list of indices. Each index refers to the corresponding record.\n",
    " - _to:   is a dict where the key is the string receiver, and the value is a list of indices. Each index refers to the corresponding record.\n",
    "\n",
    "Class PostcardList must manage the I/O file through the following member functions. Note that you are free to choose the appropriate arguments, but the function names must be as follows:  \n",
    " - writeFile(self,...): write self.{_date,_from,_to} to self._file  \n",
    " - readFile(self,...): from self._file read self.{_date,_from,_to}    \n",
    " - parsePostcards(self,...): parse self._postcards, set self.{_date,_from,_to} \n",
    " - updateFile(self,...): as write but appending to self._file \n",
    " - updateLists(self,...): as read but appending to self._postcards \n",
    " - getNumberOfPostcards(self): returns length of self._postcards\n",
    "\n",
    "Class PostcardList must manage the sorting of dates/senders/receivers. Note that the names and arguments of the functions are fixed as follows: \n",
    " - getPostcardsByDateRange(self,date_range): returns the postcards within a date_range\n",
    " - getPostcardsBySender(self, sender): returns the postcards from a sender\n",
    " - getPostcardsByReceiver(self, receiver): returns the postcards to a receiver"
   ]
  },
  {
   "cell_type": "code",
   "execution_count": 8,
   "metadata": {},
   "outputs": [],
   "source": [
    "import unittest\n",
    "import datetime # use this module to deal with dates:  https://docs.python.org/3/library/datetime.html\n",
    "from collections import defaultdict\n",
    "\n",
    "class PostcardList: \n",
    "    def __init__(self):\n",
    "        self._file = list() #keep track of multiple file\n",
    "        self._postcards = list()\n",
    "        self._date= {}   #   defaultdict(list) #dict(str(date),list(indexes where data is))\n",
    "        self._from={}\n",
    "        self._to={}\n",
    "        self._size=0\n",
    "#date are stored as string, because we are required to do so, otherwise it's even\n",
    " #possible to store them directly as dates\n",
    "        \n",
    "        \n",
    "    def getNumberOfPostcards(self):\n",
    "        return self._size\n",
    "    \n",
    "    def __len__(self):\n",
    "        return self._size\n",
    "    \n",
    "    def parsePostcards(self,input_list):\n",
    "        for i in input_list:\n",
    "                i=i.split(\"; \")\n",
    "                i[0]=i[0].replace('date:','') #date: is deleted\n",
    "                i[1]=i[1].replace(\"from:\",\"\")\n",
    "                i[2]=i[2].replace(\"to:\",\"\")\n",
    "                if i[0] not in self._date:\n",
    "                    self._date[i[0]] = []\n",
    "                self._date[i[0]].append(self._size)\n",
    "                if i[1] not in self._from:\n",
    "                    self._from[i[1]] = []\n",
    "                self._from[i[1]].append(self._size)\n",
    "                if i[2] not in self._to:\n",
    "                    self._to[i[2]] = []\n",
    "                self._to[i[2]].append(self._size)\n",
    "                    \n",
    "                #self._date[i[0]].append(self._size)\n",
    "                #self._from[i[1]].append(self._size)\n",
    "                #self._to[i[2]].append(self._size)\n",
    "                self._size+=1\n",
    "    \n",
    "    \n",
    "    def readFile(self,filename):\n",
    "        ##delete everything\n",
    "        self._file.append(filename)\n",
    "        with open(filename,'r') as f:\n",
    "            for i in f:\n",
    "                i=i[:-1]\n",
    "                self._postcards.append(i)\n",
    "        self.parsePostcards(self._postcards)\n",
    "    \n",
    "    def writeFile(self,filename):\n",
    "        with open(filename,'w') as f:\n",
    "            for i in self._postcards:\n",
    "                print(i,file=f)\n",
    "    \n",
    "    #updateLists(self,...): as read but appending to self._postcards\n",
    "    def updateLists(self,newfilename):\n",
    "        self._file.append(newfilename)\n",
    "        with open(newfilename,'r') as f:\n",
    "            tmp =list()\n",
    "            for i in f:\n",
    "                i=i[:-2]\n",
    "                self._postcards.append(i)\n",
    "                tmp.append(i) #list with all the newcontent\n",
    "        self.parsePostcards(tmp)  \n",
    "        \n",
    "    def updateFile(self,filename):\n",
    "        with open(filename,'a+') as f:\n",
    "            for i in self._postcards:\n",
    "                print(i,file=f)\n",
    "                \n",
    "                \n",
    "                \n",
    "    #range methods            \n",
    "                \n",
    "    def getPostcardsByDateRange(self,date_range):  #data range assumed to be a list of strings\n",
    "        l=list()\n",
    "        date_range=tuple(date_range)               #become const as tuple\n",
    "        l_bound=datetime.datetime.strptime(date_range[0], \"%Y-%m-%d\")\n",
    "        u_bound=datetime.datetime.strptime(date_range[1], \"%Y-%m-%d\")          \n",
    "    #    u_bound=datetime.date.fromisoformat(date_string[1])\n",
    "        idx=0\n",
    "        for i in self._date:\n",
    "            tmp=datetime.datetime.strptime(i, \"%Y-%m-%d\")\n",
    "            if (l_bound<=tmp<=u_bound):\n",
    "                l.append(   (self._postcards[idx])   )\n",
    "            idx+=1\n",
    "        return l"
   ]
  },
  {
   "cell_type": "code",
   "execution_count": 9,
   "metadata": {},
   "outputs": [
    {
     "ename": "FileNotFoundError",
     "evalue": "[Errno 2] No such file or directory: 'exam_postcard_list0.txt'",
     "output_type": "error",
     "traceback": [
      "\u001b[0;31m---------------------------------------------------------------------------\u001b[0m",
      "\u001b[0;31mFileNotFoundError\u001b[0m                         Traceback (most recent call last)",
      "\u001b[0;32m<ipython-input-9-bec9fb8c391b>\u001b[0m in \u001b[0;36m<module>\u001b[0;34m()\u001b[0m\n\u001b[1;32m      1\u001b[0m \u001b[0mp\u001b[0m\u001b[0;34m=\u001b[0m\u001b[0mPostcardList\u001b[0m\u001b[0;34m(\u001b[0m\u001b[0;34m)\u001b[0m\u001b[0;34m\u001b[0m\u001b[0m\n\u001b[0;32m----> 2\u001b[0;31m \u001b[0mp\u001b[0m\u001b[0;34m.\u001b[0m\u001b[0mreadFile\u001b[0m\u001b[0;34m(\u001b[0m\u001b[0;34m\"exam_postcard_list0.txt\"\u001b[0m\u001b[0;34m)\u001b[0m\u001b[0;34m\u001b[0m\u001b[0m\n\u001b[0m\u001b[1;32m      3\u001b[0m \u001b[0mtest\u001b[0m\u001b[0;34m=\u001b[0m\u001b[0mp\u001b[0m\u001b[0;34m.\u001b[0m\u001b[0mgetPostcardsByDateRange\u001b[0m\u001b[0;34m(\u001b[0m\u001b[0;34m[\u001b[0m\u001b[0;34m\"2008-01-01\"\u001b[0m\u001b[0;34m,\u001b[0m\u001b[0;34m\"2009-01-01\"\u001b[0m\u001b[0;34m]\u001b[0m\u001b[0;34m)\u001b[0m\u001b[0;34m\u001b[0m\u001b[0m\n\u001b[1;32m      4\u001b[0m \u001b[0mtest\u001b[0m\u001b[0;34m\u001b[0m\u001b[0m\n\u001b[1;32m      5\u001b[0m \u001b[0;31m#date.fromisoformat(date_string)\u001b[0m\u001b[0;34m\u001b[0m\u001b[0;34m\u001b[0m\u001b[0m\n",
      "\u001b[0;32m<ipython-input-8-38fe5c7b4af1>\u001b[0m in \u001b[0;36mreadFile\u001b[0;34m(self, filename)\u001b[0m\n\u001b[1;32m     46\u001b[0m         \u001b[0;31m##delete everything\u001b[0m\u001b[0;34m\u001b[0m\u001b[0;34m\u001b[0m\u001b[0m\n\u001b[1;32m     47\u001b[0m         \u001b[0mself\u001b[0m\u001b[0;34m.\u001b[0m\u001b[0m_file\u001b[0m\u001b[0;34m.\u001b[0m\u001b[0mappend\u001b[0m\u001b[0;34m(\u001b[0m\u001b[0mfilename\u001b[0m\u001b[0;34m)\u001b[0m\u001b[0;34m\u001b[0m\u001b[0m\n\u001b[0;32m---> 48\u001b[0;31m         \u001b[0;32mwith\u001b[0m \u001b[0mopen\u001b[0m\u001b[0;34m(\u001b[0m\u001b[0mfilename\u001b[0m\u001b[0;34m,\u001b[0m\u001b[0;34m'r'\u001b[0m\u001b[0;34m)\u001b[0m \u001b[0;32mas\u001b[0m \u001b[0mf\u001b[0m\u001b[0;34m:\u001b[0m\u001b[0;34m\u001b[0m\u001b[0m\n\u001b[0m\u001b[1;32m     49\u001b[0m             \u001b[0;32mfor\u001b[0m \u001b[0mi\u001b[0m \u001b[0;32min\u001b[0m \u001b[0mf\u001b[0m\u001b[0;34m:\u001b[0m\u001b[0;34m\u001b[0m\u001b[0m\n\u001b[1;32m     50\u001b[0m                 \u001b[0mi\u001b[0m\u001b[0;34m=\u001b[0m\u001b[0mi\u001b[0m\u001b[0;34m[\u001b[0m\u001b[0;34m:\u001b[0m\u001b[0;34m-\u001b[0m\u001b[0;36m1\u001b[0m\u001b[0;34m]\u001b[0m\u001b[0;34m\u001b[0m\u001b[0m\n",
      "\u001b[0;31mFileNotFoundError\u001b[0m: [Errno 2] No such file or directory: 'exam_postcard_list0.txt'"
     ]
    }
   ],
   "source": [
    "p=PostcardList()\n",
    "p.readFile(\"exam_postcard_list0.txt\")\n",
    "test=p.getPostcardsByDateRange([\"2008-01-01\",\"2009-01-01\"])\n",
    "test\n",
    "#date.fromisoformat(date_string)"
   ]
  },
  {
   "cell_type": "code",
   "execution_count": 10,
   "metadata": {},
   "outputs": [
    {
     "name": "stderr",
     "output_type": "stream",
     "text": [
      "E\n",
      "======================================================================\n",
      "ERROR: /run/user/1000/jupyter/kernel-836e0e13-5a03-43fc-a1f1-fbc5a2109be5 (unittest.loader._FailedTest)\n",
      "----------------------------------------------------------------------\n",
      "AttributeError: module '__main__' has no attribute '/run/user/1000/jupyter/kernel-836e0e13-5a03-43fc-a1f1-fbc5a2109be5'\n",
      "\n",
      "----------------------------------------------------------------------\n",
      "Ran 1 test in 0.001s\n",
      "\n",
      "FAILED (errors=1)\n"
     ]
    },
    {
     "ename": "SystemExit",
     "evalue": "True",
     "output_type": "error",
     "traceback": [
      "An exception has occurred, use %tb to see the full traceback.\n",
      "\u001b[0;31mSystemExit\u001b[0m\u001b[0;31m:\u001b[0m True\n"
     ]
    },
    {
     "name": "stderr",
     "output_type": "stream",
     "text": [
      "/home/w-wilson/anaconda3/lib/python3.7/site-packages/IPython/core/interactiveshell.py:2969: UserWarning: To exit: use 'exit', 'quit', or Ctrl-D.\n",
      "  warn(\"To exit: use 'exit', 'quit', or Ctrl-D.\", stacklevel=1)\n"
     ]
    }
   ],
   "source": [
    "########################\n",
    "# TO COMMENT \n",
    "#from exam_solution import PostcardList # overrides the class define above\n",
    "########################\n",
    "\n",
    "\n",
    "class Test(unittest.TestCase):\n",
    "\n",
    "    @classmethod\n",
    "    def setUpClass(self):\n",
    "        self._files = ['./exam_postcard_list{}.txt'.format(i) \\\n",
    "                           for i in range(10)]\n",
    "        self._PstLst = [PostcardList() for f in self._files]\n",
    "        [p.readFile(f) for f,p in zip(self._files,self._PstLst)]\n",
    "\n",
    "    def test_missing_attributes(self): \n",
    "        attributes_to_define = ['_file','_postcards','_date','_from','_to',\\\n",
    "                                'writeFile','readFile','parsePostcards',\\\n",
    "                                'updateFile','updateLists',\\\n",
    "                                'getNumberOfPostcards',\\\n",
    "                                'getPostcardsByDateRange',\\\n",
    "                                'getPostcardsBySender',\\\n",
    "                                'getPostcardsByReceiver']\n",
    "        for attr in attributes_to_define:\n",
    "            if attr not in dir(self._PstLst[0]): \n",
    "                raise Exception(attr+' is missing')\n",
    "\n",
    "    def test_check_getPostcardByDateRange(self): \n",
    "        dr_test = []\n",
    "        for i in [0,1,4,6]: \n",
    "            dr_test.append(\\\n",
    "                self._PstLst[i].getPostcardsByDateRange(date_range=\\\n",
    "                   (datetime.datetime.strptime('2008-1-1', \"%Y-%m-%d\"),\\\n",
    "                    datetime.datetime.strptime('2010-12-31', \"%Y-%m-%d\"))))\n",
    "        self.assertListEqual(sorted(dr_test[0]),sorted(['date:2010-06-23; from:Sneezy; to:Alice;\\n', 'date:2009-12-12; from:Dopey; to:Peter;\\n', 'date:2008-03-23; from:Sneezy; to:Pluto;\\n', 'date:2008-06-03; from:Goofy; to:Pluto;\\n'])) \n",
    "        self.assertEqual(len(dr_test[1]),1)\n",
    "        self.assertListEqual(sorted(dr_test[2]),sorted(['date:2010-03-30; from:Louie; to:Sneezy;\\n', 'date:2010-03-05; from:Goofy; to:Dopey;\\n', 'date:2009-11-08; from:Daisy; to:Minnie;\\n', 'date:2010-07-13; from:Bashful; to:Louie;\\n', 'date:2008-06-29; from:Huey; to:Dopey;\\n', 'date:2009-01-04; from:Alice; to:Hook;\\n', 'date:2009-04-28; from:Bashful; to:Mickey;\\n']))\n",
    "        self.assertEqual(len(dr_test[3]),7)\n",
    "\n",
    "    def test_check_getPostcardBySender(self): \n",
    "        s_test = []\n",
    "        for i in [2,3,5,7]:\n",
    "            for sender in ['Daisy','Bashful','Peter']:\n",
    "                s_test.append(\\\n",
    "                    self._PstLst[i].getPostcardsBySender(sender=sender))\n",
    "        self.assertIn('date:2011-12-11; from:Daisy; to:Goofy;\\n',s_test[0])\n",
    "        self.assertListEqual(s_test[1],[])\n",
    "        self.assertEqual(len(s_test[2]),1)\n",
    "        self.assertEqual(len(s_test[5]),0)\n",
    "        self.assertGreater(len(s_test[8]),len(s_test[9]))\n",
    "\n",
    "    def test_check_getPostcardByReceiver(self): \n",
    "        r_test = []\n",
    "        for i in [0,3,8,9]:\n",
    "            for receiver in ['Peter','Hook','Alice','SnowWhite']:\n",
    "                r_test.append(\\\n",
    "                  self._PstLst[i].getPostcardsByReceiver(receiver=receiver))\n",
    "        self.assertIn('date:2009-12-12; from:Dopey; to:Peter;\\n',r_test[0])\n",
    "        self.assertListEqual(r_test[1],['date:2016-10-23; from:Sneezy; to:Hook;\\n'])\n",
    "        self.assertEqual(len(r_test[2]),2)\n",
    "        self.assertEqual(len(r_test[6]),3)\n",
    "\n",
    "    def test_check_sent_received_when(self): \n",
    "        srw_test = []\n",
    "        for ii in range(10):\n",
    "            for jj in [\"Mickey\",\"Minnie\",\"Goofy\",\"Pluto\",\"Donald\",\"Daisy\",\"$crooge\",\"Huey\",\"Dewey\",\"Louie\",\"Peter\",\"Hook\",\"Alice\",\"SnowWhite\",\"Doc\",\"Sleepy\",\"Sneezy\",\"Bashful\",\"Dopey\",\"Happy\",\"Grumpy\"]:\n",
    "                try:\n",
    "                    srw_test.append(self._PstLst[ii]._from[jj])\n",
    "                    srw_test.append(self._PstLst[ii]._to[jj])\n",
    "                    srw_test.append(self._PstLst[ii]._date[jj])\n",
    "                except: pass\n",
    "        self.assertListEqual(srw_test[0],[1])\n",
    "        self.assertListEqual(srw_test[130],[14,25])\n",
    "        self.assertListEqual(srw_test[138],[10])\n",
    "        self.assertListEqual(srw_test[140],[15])\n",
    "        self.assertListEqual(srw_test[192],[13,26])\n",
    "        self.assertListEqual(srw_test[203],[6, 9, 11, 12, 24, 31, 42])\n",
    "\n",
    "if __name__ == '__main__':\n",
    "\n",
    "    unittest.main()"
   ]
  },
  {
   "cell_type": "code",
   "execution_count": 38,
   "metadata": {},
   "outputs": [
    {
     "data": {
      "text/plain": [
       "True"
      ]
     },
     "execution_count": 38,
     "metadata": {},
     "output_type": "execute_result"
    }
   ],
   "source": [
    "d1=datetime.datetime.strptime(\"2010-06-04\", \"%Y-%m-%d\")\n",
    "d2=datetime.datetime.strptime(\"2010-01-01\", \"%Y-%m-%d\")\n",
    "d2<d1\n",
    "d3=datetime.datetime.strptime(\"2010-06-04\", \"%Y-%m-%d\")\n"
   ]
  },
  {
   "cell_type": "code",
   "execution_count": 135,
   "metadata": {},
   "outputs": [],
   "source": [
    "??datetime.date"
   ]
  },
  {
   "cell_type": "code",
   "execution_count": 30,
   "metadata": {},
   "outputs": [
    {
     "ename": "ValueError",
     "evalue": "time data '2012-01-01' does not match format '%y-%m-%d'",
     "output_type": "error",
     "traceback": [
      "\u001b[0;31m---------------------------------------------------------------------------\u001b[0m",
      "\u001b[0;31mValueError\u001b[0m                                Traceback (most recent call last)",
      "\u001b[0;32m<ipython-input-30-964c624dd328>\u001b[0m in \u001b[0;36m<module>\u001b[0;34m\u001b[0m\n\u001b[0;32m----> 1\u001b[0;31m \u001b[0mdt\u001b[0m \u001b[0;34m=\u001b[0m \u001b[0mdatetime\u001b[0m\u001b[0;34m.\u001b[0m\u001b[0mdatetime\u001b[0m\u001b[0;34m.\u001b[0m\u001b[0mstrptime\u001b[0m\u001b[0;34m(\u001b[0m\u001b[0;34m\"2012-01-01\"\u001b[0m\u001b[0;34m,\u001b[0m \u001b[0;34m\"%y-%m-%d\"\u001b[0m\u001b[0;34m)\u001b[0m\u001b[0;34m\u001b[0m\u001b[0;34m\u001b[0m\u001b[0m\n\u001b[0m",
      "\u001b[0;32m~/anaconda3/lib/python3.6/_strptime.py\u001b[0m in \u001b[0;36m_strptime_datetime\u001b[0;34m(cls, data_string, format)\u001b[0m\n\u001b[1;32m    563\u001b[0m     \"\"\"Return a class cls instance based on the input string and the\n\u001b[1;32m    564\u001b[0m     format string.\"\"\"\n\u001b[0;32m--> 565\u001b[0;31m     \u001b[0mtt\u001b[0m\u001b[0;34m,\u001b[0m \u001b[0mfraction\u001b[0m \u001b[0;34m=\u001b[0m \u001b[0m_strptime\u001b[0m\u001b[0;34m(\u001b[0m\u001b[0mdata_string\u001b[0m\u001b[0;34m,\u001b[0m \u001b[0mformat\u001b[0m\u001b[0;34m)\u001b[0m\u001b[0;34m\u001b[0m\u001b[0;34m\u001b[0m\u001b[0m\n\u001b[0m\u001b[1;32m    566\u001b[0m     \u001b[0mtzname\u001b[0m\u001b[0;34m,\u001b[0m \u001b[0mgmtoff\u001b[0m \u001b[0;34m=\u001b[0m \u001b[0mtt\u001b[0m\u001b[0;34m[\u001b[0m\u001b[0;34m-\u001b[0m\u001b[0;36m2\u001b[0m\u001b[0;34m:\u001b[0m\u001b[0;34m]\u001b[0m\u001b[0;34m\u001b[0m\u001b[0;34m\u001b[0m\u001b[0m\n\u001b[1;32m    567\u001b[0m     \u001b[0margs\u001b[0m \u001b[0;34m=\u001b[0m \u001b[0mtt\u001b[0m\u001b[0;34m[\u001b[0m\u001b[0;34m:\u001b[0m\u001b[0;36m6\u001b[0m\u001b[0;34m]\u001b[0m \u001b[0;34m+\u001b[0m \u001b[0;34m(\u001b[0m\u001b[0mfraction\u001b[0m\u001b[0;34m,\u001b[0m\u001b[0;34m)\u001b[0m\u001b[0;34m\u001b[0m\u001b[0;34m\u001b[0m\u001b[0m\n",
      "\u001b[0;32m~/anaconda3/lib/python3.6/_strptime.py\u001b[0m in \u001b[0;36m_strptime\u001b[0;34m(data_string, format)\u001b[0m\n\u001b[1;32m    360\u001b[0m     \u001b[0;32mif\u001b[0m \u001b[0;32mnot\u001b[0m \u001b[0mfound\u001b[0m\u001b[0;34m:\u001b[0m\u001b[0;34m\u001b[0m\u001b[0;34m\u001b[0m\u001b[0m\n\u001b[1;32m    361\u001b[0m         raise ValueError(\"time data %r does not match format %r\" %\n\u001b[0;32m--> 362\u001b[0;31m                          (data_string, format))\n\u001b[0m\u001b[1;32m    363\u001b[0m     \u001b[0;32mif\u001b[0m \u001b[0mlen\u001b[0m\u001b[0;34m(\u001b[0m\u001b[0mdata_string\u001b[0m\u001b[0;34m)\u001b[0m \u001b[0;34m!=\u001b[0m \u001b[0mfound\u001b[0m\u001b[0;34m.\u001b[0m\u001b[0mend\u001b[0m\u001b[0;34m(\u001b[0m\u001b[0;34m)\u001b[0m\u001b[0;34m:\u001b[0m\u001b[0;34m\u001b[0m\u001b[0;34m\u001b[0m\u001b[0m\n\u001b[1;32m    364\u001b[0m         raise ValueError(\"unconverted data remains: %s\" %\n",
      "\u001b[0;31mValueError\u001b[0m: time data '2012-01-01' does not match format '%y-%m-%d'"
     ]
    }
   ],
   "source": [
    "dt = datetime.datetime.strptime(\"2012-01-01\", \"%y-%m-%d\")"
   ]
  },
  {
   "cell_type": "code",
   "execution_count": null,
   "metadata": {},
   "outputs": [],
   "source": []
  }
 ],
 "metadata": {
  "kernelspec": {
   "display_name": "Python 3",
   "language": "python",
   "name": "python3"
  },
  "language_info": {
   "codemirror_mode": {
    "name": "ipython",
    "version": 3
   },
   "file_extension": ".py",
   "mimetype": "text/x-python",
   "name": "python",
   "nbconvert_exporter": "python",
   "pygments_lexer": "ipython3",
   "version": "3.7.0"
  }
 },
 "nbformat": 4,
 "nbformat_minor": 2
}
