{
 "cells": [
  {
   "cell_type": "markdown",
   "metadata": {},
   "source": [
    "Exam requests: \n",
    "\n",
    "1. Write a class PostcardList that satisfies the tests (defined using unittest). \n",
    "\n",
    "SPECIFICATIONS: \n",
    "Class PostcardList reads/writes Postcard messages from/to a properly formatted file: each record (i.e., file's line) is a Postcard. \n",
    "The Postcard format is \"date:$(DATE); from:$(SENDER); to:$(RECEIVER);\" (e.g., \"date:2009-12-24; from:Daisy; to:Donald;\"). For the sake of simplicity, the message is not considered.\n",
    "\n",
    "Class PostcardList must have at least these attributes:\n",
    " - _file: file name, eventually with the full path.\n",
    " - _postcards: list of postcards read from _file.\n",
    " - _date: is a dict where the key is the string date, and the value is a list of indices. Each index refers to the corresponding record.\n",
    " - _from: is a dict where the key is the string sender, and the value is a list of indices. Each index refers to the corresponding record.\n",
    " - _to:   is a dict where the key is the string receiver, and the value is a list of indices. Each index refers to the corresponding record.\n",
    "\n",
    "Class PostcardList must manage the I/O file through the following member functions. Note that you are free to choose the appropriate arguments, but the function names must be as follows:  \n",
    " - writeFile(self,...): write self.{_date,_from,_to} to self._file  \n",
    " - readFile(self,...): from self._file read self.{_date,_from,_to}    \n",
    " - parsePostcards(self,...): parse self._postcards, set self.{_date,_from,_to} \n",
    " - updateFile(self,...): as write but appending to self._file \n",
    " - updateLists(self,...): as read but appending to self._postcards \n",
    " - getNumberOfPostcards(self): returns length of self._postcards\n",
    "\n",
    "Class PostcardList must manage the sorting of dates/senders/receivers. Note that the names and arguments of the functions are fixed as follows: \n",
    " - getPostcardsByDateRange(self,date_range): returns the postcards within a date_range\n",
    " - getPostcardsBySender(self, sender): returns the postcards from a sender\n",
    " - getPostcardsByReceiver(self, receiver): returns the postcards to a receiver"
   ]
  },
  {
   "cell_type": "code",
   "execution_count": 80,
   "metadata": {},
   "outputs": [],
   "source": [
    "from datetime import datetime as dt# use this module to deal with dates:  https://docs.python.org/3/library/datetime.html\n",
    "from collections import defaultdict\n",
    "\n",
    "class PostcardList: \n",
    "    def __init__(self):\n",
    "        '''\n",
    "        constructor\n",
    "        '''\n",
    "        self._file = list() #keep track of multiple file\n",
    "        self._postcards = []\n",
    "        self._date= {} #dict(str(date),list(indexes where data is))\n",
    "        self._from= {}\n",
    "        self._to= {}\n",
    "#date are stored as string, because we are required to do so, otherwise it's even\n",
    " #possible to store them directly as dates\n",
    "        \n",
    "    def __delitem__(self):\n",
    "        '''\n",
    "        destructor\n",
    "        '''\n",
    "        del self._file\n",
    "        del self._postcards\n",
    "        del self._date #dict(str(date),list(indexes where data is))\n",
    "        del self._from\n",
    "        del self._to\n",
    "    \n",
    "    def clear(self): #Not sure: which is to be preferred?\n",
    "        '''\n",
    "        clear content of variable\n",
    "        '''\n",
    "        del self\n",
    "        self=PostcardList()\n",
    "        #self._file = list() #keep track of multiple file\n",
    "        #self._postcards = []\n",
    "        #self._date= {} #dict(str(date),list(indexes where data is))\n",
    "        #self._from= {}\n",
    "        #self._to= {}\n",
    "    \n",
    "    def getNumberOfPostcards(self):\n",
    "        '''\n",
    "        returns number of postcards in PostcardList\n",
    "        '''\n",
    "        return len(self._postcards)\n",
    "    \n",
    "    def parsePostcards(self,start=0):\n",
    "        '''\n",
    "        given the postcards inserted in self._postcards, it updates dictionaries of self._date,._from and ._to\n",
    "        '''\n",
    "        tmp=self._postcards[start:] #tmp is new postcards added\n",
    "        for i,card in enumerate(tmp):\n",
    "            card = card.split(\";\")\n",
    "            card[0]=card[0].replace('date:','') #date: is deleted\n",
    "            card[1]=card[1].replace(\" from:\",\"\")\n",
    "            card[2]=card[2].replace(\" to:\",\"\")\n",
    "            if card[0] not in self._date:\n",
    "                self._date[card[0]] = []\n",
    "            self._date[card[0]].append(start+i)   \n",
    "            if card[1] not in self._from:\n",
    "                self._from[card[1]] = []\n",
    "            self._from[card[1]].append(start+i)   \n",
    "            if card[2] not in self._to:\n",
    "                self._to[card[2]] = []\n",
    "            self._to[card[2]].append(start+i)   \n",
    "\n",
    "    \n",
    "    def readFile(self,filename):\n",
    "        '''\n",
    "        read postcards from formatted file and create new Postcardlist\n",
    "        '''\n",
    "        self.clear()\n",
    "        self._file = [filename]\n",
    "        with open(filename,'r') as f:\n",
    "            for i in f:\n",
    "                self._postcards.append(i)\n",
    "        self.parsePostcards()\n",
    "\n",
    "    def writeFile(self,filename):\n",
    "        '''\n",
    "        write a new file named \"filename\" with formatted content of self\n",
    "        '''\n",
    "        with open(filename,'w') as f:\n",
    "            for i in self._postcards:\n",
    "                print(i,file=f)\n",
    "    \n",
    "    def updateLists(self,newfilename):\n",
    "        '''\n",
    "        appends elements from a new or updated file to self\n",
    "        '''\n",
    "        self._file.append(newfilename)\n",
    "        previous_size=len(self._postcards)\n",
    "        with open(newfilename,'r') as f:\n",
    "            for i in f:\n",
    "                self._postcards.append(i)\n",
    "        self.parsePostcards(previous_size)\n",
    "        \n",
    "        \n",
    "        \n",
    "    def updateFile(self,filename):\n",
    "        '''\n",
    "        Update a file named \"filename\" with the content of self\n",
    "        '''\n",
    "        with open(filename,'a+') as f:\n",
    "            for i in self._postcards:\n",
    "                print(i,file=f)\n",
    "                \n",
    "                \n",
    "                \n",
    "    #range methods            \n",
    "                \n",
    "    def getPostcardsByDateRange(self,date_range):  #data range assumed to be a list of strings\n",
    "        '''\n",
    "        takes date_range as list [lower_bound,upper_b] and return self._postcards with date in that range\n",
    "        '''\n",
    "        l = []    \n",
    "        for i in (self._date).keys():  #cycle through the dict keys (date string)\n",
    "            tmp=dt.strptime(i, \"%Y-%m-%d\")\n",
    "            if (date_range[0]<=tmp<=date_range[1]):\n",
    "                for j in self._date[i]:\n",
    "                    l.append(   (self._postcards[j])   )\n",
    "        return l\n",
    "    \n",
    "   # added list comprehension, more pythonic \n",
    "    \n",
    "    def getPostcardsBySender(self, sender):\n",
    "        '''\n",
    "        returns a list with the postcards from a given sender\n",
    "        '''\n",
    "        return [self._postcards[i] for i in self._from.get(sender, [])]\n",
    "    \n",
    "    \n",
    "    def getPostcardsByReceiver(self, receiver):\n",
    "        '''\n",
    "        returns a list with the postcards from a given receiver\n",
    "        '''\n",
    "        return [self._postcards[i] for i in self._to.get(receiver, [])]\n",
    "        "
   ]
  },
  {
   "cell_type": "code",
   "execution_count": 81,
   "metadata": {},
   "outputs": [
    {
     "name": "stdout",
     "output_type": "stream",
     "text": [
      "date:2015-11-28; from:Dewey; to:Alice;\n",
      "\n"
     ]
    },
    {
     "data": {
      "text/plain": [
       "['date:2008-03-23; from:Sneezy; to:Pluto;\\n',\n",
       " 'date:2008-03-23; from:Sneezy; to:Pluto;\\n',\n",
       " 'date:2008-06-03; from:Goofy; to:Pluto;\\n',\n",
       " 'date:2008-06-03; from:Goofy; to:Pluto;\\n',\n",
       " 'date:2008-01-31; from:Sleepy; to:SnowWhite;\\n']"
      ]
     },
     "execution_count": 81,
     "metadata": {},
     "output_type": "execute_result"
    }
   ],
   "source": [
    "p=PostcardList()\n",
    "p.readFile(\"exam_postcard_list0.txt\")\n",
    "p.readFile(\"exam_postcard_list1.txt\")\n",
    "print(p._postcards[13])\n",
    "down=dt.strptime(\"2008-01-01\",\"%Y-%m-%d\")\n",
    "up=dt.strptime(\"2009-01-01\",\"%Y-%m-%d\")\n",
    "p.getPostcardsByDateRange([down,up])"
   ]
  },
  {
   "cell_type": "code",
   "execution_count": 25,
   "metadata": {},
   "outputs": [
    {
     "name": "stderr",
     "output_type": "stream",
     "text": [
      "E\n",
      "======================================================================\n",
      "ERROR: /run/user/1000/jupyter/kernel-e66dca4f-bee7-44be-8191-9410d5a0b5fe (unittest.loader._FailedTest)\n",
      "----------------------------------------------------------------------\n",
      "AttributeError: module '__main__' has no attribute '/run/user/1000/jupyter/kernel-e66dca4f-bee7-44be-8191-9410d5a0b5fe'\n",
      "\n",
      "----------------------------------------------------------------------\n",
      "Ran 1 test in 0.003s\n",
      "\n",
      "FAILED (errors=1)\n"
     ]
    },
    {
     "ename": "SystemExit",
     "evalue": "True",
     "output_type": "error",
     "traceback": [
      "An exception has occurred, use %tb to see the full traceback.\n",
      "\u001b[0;31mSystemExit\u001b[0m\u001b[0;31m:\u001b[0m True\n"
     ]
    },
    {
     "name": "stderr",
     "output_type": "stream",
     "text": [
      "/home/simone/anaconda3/lib/python3.6/site-packages/IPython/core/interactiveshell.py:3273: UserWarning: To exit: use 'exit', 'quit', or Ctrl-D.\n",
      "  warn(\"To exit: use 'exit', 'quit', or Ctrl-D.\", stacklevel=1)\n"
     ]
    }
   ],
   "source": [
    "\n",
    "files = ['./exam_postcard_list{}.txt'.format(i) for i in range(10)]\n",
    "PstLst = [PostcardList() for f in files]\n",
    "[p.readFile(f) for f,p in zip(files,PstLst)]\n",
    "print(PstLst[3]._from[\"Alice\"])\n",
    "\n",
    "srw_test = []\n",
    "for ii in range(10):\n",
    "    for jj in [\"Mickey\",\"Minnie\",\"Goofy\",\"Pluto\",\"Donald\",\"Daisy\",\"$crooge\",\"Huey\",\"Dewey\",\"Louie\",\"Peter\",\"Hook\",\"Alice\",\"SnowWhite\",\"Doc\",\"Sleepy\",\"Sneezy\",\"Bashful\",\"Dopey\",\"Happy\",\"Grumpy\"]:\n",
    "        try:\n",
    "            srw_test.append(PstLst[ii]._from[jj])\n",
    "            srw_test.append(PstLst[ii]._to[jj])\n",
    "            srw_test.append(PstLst[ii]._date[jj])\n",
    "        except: pass\n",
    "    print(ii,len(srw_test))\n",
    "        \n",
    "srw_test[130] "
   ]
  },
  {
   "cell_type": "code",
   "execution_count": 64,
   "metadata": {},
   "outputs": [
    {
     "name": "stdout",
     "output_type": "stream",
     "text": [
      "[2, 3, 4]\n"
     ]
    }
   ],
   "source": [
    "a=[0,1,2,3,4]\n",
    "print(a[2:])"
   ]
  },
  {
   "cell_type": "code",
   "execution_count": null,
   "metadata": {},
   "outputs": [],
   "source": []
  }
 ],
 "metadata": {
  "kernelspec": {
   "display_name": "Python 3",
   "language": "python",
   "name": "python3"
  },
  "language_info": {
   "codemirror_mode": {
    "name": "ipython",
    "version": 3
   },
   "file_extension": ".py",
   "mimetype": "text/x-python",
   "name": "python",
   "nbconvert_exporter": "python",
   "pygments_lexer": "ipython3",
   "version": "3.6.8"
  }
 },
 "nbformat": 4,
 "nbformat_minor": 2
}
